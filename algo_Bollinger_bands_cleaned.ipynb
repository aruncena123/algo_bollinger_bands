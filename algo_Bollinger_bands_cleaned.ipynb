{
 "cells": [
  {
   "cell_type": "code",
   "execution_count": 1,
   "metadata": {},
   "outputs": [],
   "source": [
    "import matplotlib.pyplot as plt"
   ]
  },
  {
   "cell_type": "code",
   "execution_count": 2,
   "metadata": {},
   "outputs": [],
   "source": [
    "from catalyst.api import symbol, order, record, order_target_percent\n",
    "from catalyst import run_algorithm\n",
    "from logbook import Logger\n",
    "import talib\n",
    "import pandas as pd"
   ]
  },
  {
   "cell_type": "code",
   "execution_count": 3,
   "metadata": {},
   "outputs": [],
   "source": [
    "log = Logger('BB_ALGO_TEST')"
   ]
  },
  {
   "cell_type": "code",
   "execution_count": 4,
   "metadata": {},
   "outputs": [],
   "source": [
    "def initialize(context):\n",
    "    context.asset = symbol('btc_usdt')\n",
    "    context.holding = False\n",
    "    context.i = 0\n",
    "    context.high_value = 0"
   ]
  },
  {
   "cell_type": "code",
   "execution_count": 5,
   "metadata": {},
   "outputs": [],
   "source": [
    "def handle_data(context, data):\n",
    "    context.i += 1\n",
    "    open_history = data.history(context.asset, 'open', bar_count = 20, frequency = '1D')\n",
    "    high_history = data.history(context.asset, 'high', bar_count = 20, frequency = '1D')\n",
    "    low_history = data.history(context.asset, 'low', bar_count = 20, frequency = '1D')\n",
    "    close_history = data.history(context.asset, 'close', bar_count = 20, frequency = '1D')\n",
    "    price_history = data.history(context.asset, 'price', bar_count = 20, frequency = '1D')\n",
    "#     log.info('got historical data')\n",
    "#     log.info('hist data is :\\n{}'.format(close_history))\n",
    "#     log.info('close hist of 0 is {}'.format(close_history[0]))\n",
    "#     log.info('close hist of -1 is {}'.format(close_history[-1]))\n",
    "#     log.info('price hist of -1 is {}'.format(price_history[-1]))\n",
    "        \n",
    "    \n",
    "    open1 = data.current(context.asset, 'open')\n",
    "    high = data.current(context.asset, 'high')\n",
    "    low = data.current(context.asset, 'low')\n",
    "    close = data.current(context.asset, 'close')\n",
    "    volume = data.current(context.asset, 'volume')\n",
    "    price = data.current(context.asset, 'price')\n",
    "#     log.info('got current values : open1: {}\\t high: {}\\t low: {}\\t close: {}\\t price: {}'.format(open1, high, low, close, price))\n",
    " \n",
    " \n",
    "    mid_price_history = (open_history + close_history) / 2\n",
    "    mid_price = ( open1 + close ) / 2\n",
    "    \n",
    "    signal= get_match(open_history, high_history, low_history,close_history, open1, high, low, close, price)\n",
    "    \n",
    "    if( context.high_value < close_history[-1]):\n",
    "        context.high_value = close_history[-1]\n",
    "    else:\n",
    "        pass\n",
    "    \n",
    "    \n",
    "#     log.info('****high value is : {}'.format(context.high_value))\n",
    "    \n",
    "    if signal == 1 and not context.holding:\n",
    "        order_target_percent(context.asset, 1)\n",
    "        context.holding = True\n",
    "#         log.info('\\n\\t>>>>>target reached bought 100% at : {}<<<<<'.format(price))\n",
    "            \n",
    "    elif signal == -1 and context.holding:\n",
    "        if((context.high_value * 0.04) < (context.high_value - close) ):\n",
    "#             log.info('HV*4%: {} < HV-CV: {}'.format((context.high_value * 0.04),(context.high_value - close)))\n",
    "            order_target_percent(context.asset, 0)\n",
    "            context.holding = False\n",
    "#             log.info('\\n\\t>>>>>sold 100% at : {}<<<<<'.format(price))\n",
    "            context.high_value = 0\n",
    "    else:\n",
    "#         log.info('----not bought anything-----')\n",
    "        pass\n",
    "    \n",
    "#     log.info('the value of i is : {}'.format(context.i))\n",
    "\n",
    "    record(open=open1, high=high, low=low, close=close, volume=volume, price=price)\n",
    "        "
   ]
  },
  {
   "cell_type": "code",
   "execution_count": 6,
   "metadata": {},
   "outputs": [],
   "source": [
    "def get_match(open_history, high_history, low_history, close_history, open1, high, low, close, price):\n",
    "    \n",
    "    high_band, mid_band, low_band = talib.BBANDS(close_history, timeperiod=20)\n",
    "    \n",
    "\n",
    "#     log.info('get_match_algo : \\n', mid_band[-1])\n",
    "    mid_price_history = (open_history + close_history) / 2\n",
    "    mid_price = ( open1 + close ) / 2\n",
    "    \n",
    "    difference = ((close - mid_band[-1]) / mid_band[-1] ) * 100\n",
    "    \n",
    "    if(close > mid_band[-1]):\n",
    "#         log.info('1: mid price: {} > mid band: {}'.format(close, mid_band[-1]))\n",
    "        if(difference > 2.5):\n",
    "#             log.info('2: difference b/w mid price and mid band is : {} > 2.5%'.format(difference))\n",
    "            if(close_history[-2] < close):\n",
    "                return 1\n",
    "            else:\n",
    "                return 0\n",
    "        if(close_history[-2] >= close):\n",
    "#             log.info('3: close price prev: {} - close price: {}'.format(close_history[-2], close))\n",
    "            return -1\n",
    "    if(close < mid_band[-1]):\n",
    "#         log.info('4: mid price: {} < mid band: {}'.format(close, mid_band[-1]))\n",
    "        return 0"
   ]
  },
  {
   "cell_type": "code",
   "execution_count": 7,
   "metadata": {},
   "outputs": [],
   "source": [
    "def analyze(context, perf):\n",
    "    exchange = list(context.exchanges.values())[0]\n",
    "    quote_currency = exchange.quote_currency.upper()\n",
    "#     log.info('exchange is : {}\\n currency is : {}'.format(exchange, quote_currency))\n",
    "#     log.info('\\t\\tperformance: \\t\\t\\n', perf)\n",
    "    \n",
    "    #graph1\n",
    "    ax1 = plt.subplot(111)\n",
    "    perf.loc[:, ['portfolio_value']].plot(ax=ax1)\n",
    "    ax1.legend_.remove()\n",
    "    ax1.set_ylabel('portfolio value\\n {}'.format(quote_currency))\n",
    "    \n",
    "    print('Performance: ')\n",
    "    plt.show()\n",
    "#     pass"
   ]
  },
  {
   "cell_type": "code",
   "execution_count": 8,
   "metadata": {
    "scrolled": true
   },
   "outputs": [
    {
     "name": "stderr",
     "output_type": "stream",
     "text": [
      "[2019-01-26 11:02:15.228487] INFO: run_algo: Catalyst version 0.5.21\n",
      "[2019-01-26 11:02:15.230895] WARNING: run_algo: Catalyst is currently in ALPHA. It is going through rapid development and it is subject to errors. Please use carefully. We encourage you to report any issue on GitHub: https://github.com/enigmampc/catalyst/issues\n",
      "[2019-01-26 11:02:18.231081] INFO: run_algo: running algo in backtest mode\n",
      "[2019-01-26 11:02:18.642015] INFO: exchange_algorithm: initialized trading algorithm in backtest mode\n",
      "[2019-01-26 11:02:21.287912] INFO: Performance: Simulated 184 trading days out of 184.\n",
      "[2019-01-26 11:02:21.288909] INFO: Performance: first open: 2018-04-01 00:00:00+00:00\n",
      "[2019-01-26 11:02:21.288909] INFO: Performance: last close: 2018-10-01 23:59:00+00:00\n"
     ]
    },
    {
     "name": "stdout",
     "output_type": "stream",
     "text": [
      "Performance: \n"
     ]
    },
    {
     "data": {
      "image/png": "[encoded data removed]",
      "text/plain": [
       "<Figure size 432x288 with 1 Axes>"
      ]
     },
     "metadata": {
      "needs_background": "light"
     },
     "output_type": "display_data"
    }
   ],
   "source": [
    "if __name__ == '__main__':\n",
    "    run_algorithm(\n",
    "        initialize=initialize,\n",
    "        capital_base=1000,\n",
    "        algo_namespace='inside bar',\n",
    "        handle_data=handle_data,\n",
    "        analyze=analyze, \n",
    "        data_frequency='daily',\n",
    "        start= pd.to_datetime('2018-04-01', utc=True),\n",
    "        end= pd.to_datetime('2018-10-01', utc=True),\n",
    "        exchange_name='bitfinex',\n",
    "        quote_currency='usdt'\n",
    "    )"
   ]
  },
  {
   "cell_type": "code",
   "execution_count": null,
   "metadata": {},
   "outputs": [],
   "source": []
  }
 ],
 "metadata": {
  "kernelspec": {
   "display_name": "Python 3",
   "language": "python",
   "name": "python3"
  },
  "language_info": {
   "codemirror_mode": {
    "name": "ipython",
    "version": 3
   },
   "file_extension": ".py",
   "mimetype": "text/x-python",
   "name": "python",
   "nbconvert_exporter": "python",
   "pygments_lexer": "ipython3",
   "version": "3.6.4"
  }
 },
 "nbformat": 4,
 "nbformat_minor": 2
}
